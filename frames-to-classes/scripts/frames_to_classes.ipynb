{
 "cells": [
  {
   "cell_type": "code",
   "execution_count": 18,
   "metadata": {},
   "outputs": [],
   "source": [
    "import cv2, os, numpy as np\n",
    "from math import floor\n",
    "from matplotlib import pyplot as plt"
   ]
  },
  {
   "cell_type": "markdown",
   "metadata": {},
   "source": [
    "## Path Definitions"
   ]
  },
  {
   "cell_type": "code",
   "execution_count": 19,
   "metadata": {},
   "outputs": [],
   "source": [
    "path_root = \"/home/deniz/Desktop/CODE-ENV/data-automation/frames-to-classes/\""
   ]
  },
  {
   "cell_type": "code",
   "execution_count": 20,
   "metadata": {},
   "outputs": [
    {
     "data": {
      "text/plain": [
       "'/home/deniz/Desktop/CODE-ENV/data-automation/frames-to-classes/frames/'"
      ]
     },
     "execution_count": 20,
     "metadata": {},
     "output_type": "execute_result"
    }
   ],
   "source": [
    "path_frames_root = path_root + \"frames/\"\n",
    "path_frames_root"
   ]
  },
  {
   "cell_type": "code",
   "execution_count": 21,
   "metadata": {},
   "outputs": [
    {
     "data": {
      "text/plain": [
       "'/home/deniz/Desktop/CODE-ENV/data-automation/frames-to-classes/classes/'"
      ]
     },
     "execution_count": 21,
     "metadata": {},
     "output_type": "execute_result"
    }
   ],
   "source": [
    "path_classes_root = path_root + \"classes/\"\n",
    "path_classes_root"
   ]
  },
  {
   "cell_type": "code",
   "execution_count": 22,
   "metadata": {},
   "outputs": [
    {
     "data": {
      "text/plain": [
       "['blue_class', 'green_class', 'red_class', 'TRASHBIN']"
      ]
     },
     "execution_count": 22,
     "metadata": {},
     "output_type": "execute_result"
    }
   ],
   "source": [
    "classes_list = os.listdir(path_classes_root)\n",
    "pop_class = classes_list.pop(classes_list.index(\"TRASHBIN\"))\n",
    "classes_list.sort()\n",
    "classes_list.append(pop_class)\n",
    "classes_list"
   ]
  },
  {
   "cell_type": "code",
   "execution_count": 23,
   "metadata": {},
   "outputs": [
    {
     "data": {
      "text/plain": [
       "'/home/deniz/Desktop/CODE-ENV/data-automation/frames-to-classes/frames/example_set1'"
      ]
     },
     "execution_count": 23,
     "metadata": {},
     "output_type": "execute_result"
    }
   ],
   "source": [
    "frames_folder_name = \"example_set1\" #\"example_set1\"\n",
    "\n",
    "path_selected_folder = path_frames_root + frames_folder_name\n",
    "path_selected_folder"
   ]
  },
  {
   "cell_type": "code",
   "execution_count": 24,
   "metadata": {},
   "outputs": [
    {
     "name": "stdout",
     "output_type": "stream",
     "text": [
      "number of photos: 3\n"
     ]
    },
    {
     "data": {
      "text/plain": [
       "['blue1.jpg', 'red1.jpg', 'blue2.jpg']"
      ]
     },
     "execution_count": 24,
     "metadata": {},
     "output_type": "execute_result"
    }
   ],
   "source": [
    "image_names_list = os.listdir(path_selected_folder)\n",
    "#image_names_list.sort()\n",
    "num_frames = len(image_names_list)\n",
    "print(\"number of photos:\", num_frames)\n",
    "image_names_list"
   ]
  },
  {
   "cell_type": "markdown",
   "metadata": {},
   "source": [
    "## Button Mapping Process"
   ]
  },
  {
   "cell_type": "code",
   "execution_count": 25,
   "metadata": {},
   "outputs": [],
   "source": [
    "def button_mapping_dict(classes, button_h=100, button_w=200, image_shape=500):\n",
    "\n",
    "    button_dict = dict()\n",
    "\n",
    "    num_classes = len(classes)\n",
    "    print(\"NUM CLASSES:\",num_classes)\n",
    "\n",
    "    num_columns = int(floor((num_classes * button_h) / image_shape) +1)\n",
    "    print(\"NUM COLUMNS:\", num_columns)\n",
    "\n",
    "    pad_h = int(num_classes * button_h)\n",
    "    pad_w = int(num_columns * button_w)\n",
    "    pad_c = 3\n",
    "    #print(\"GRID DIMS:\", (pad_h, pad_w, pad_c))\n",
    "    print(\"PAD DIMS:\", (image_shape, pad_w, pad_c),\"\\n\")\n",
    "\n",
    "    # create buton pad image\n",
    "    button_pad = np.zeros((image_shape, pad_w, pad_c), dtype=np.uint8)\n",
    "\n",
    "    column = 0\n",
    "    num_grid = 0\n",
    "\n",
    "    for current_class in classes:\n",
    "\n",
    "        color_h = np.random.randint(0,150)\n",
    "        color_s = 60\n",
    "        color_v = 255\n",
    "        grid_color_hsv = (color_h, color_s, color_v)\n",
    "        grid_color_hsv = np.uint8([[grid_color_hsv]]) \n",
    "        grid_color_rgb = cv2.cvtColor(grid_color_hsv, cv2.COLOR_HSV2BGR)\n",
    "        grid_color_rgb = tuple(grid_color_rgb[0,0].tolist())\n",
    "        #print(grid_color_hsv)\n",
    "        \n",
    "        lower_lim_y = num_grid * button_h\n",
    "        upper_lim_y = lower_lim_y + button_h\n",
    "        lower_lim_x = column * button_w\n",
    "        upper_lim_x = lower_lim_x + button_w\n",
    "        #print(f\"column:{column}, iter:{num_grid} -\",\"X:\",(lower_lim_y,upper_lim_y),\"Y:\",(lower_lim_x,upper_lim_x), \"color:\", grid_color_rgb)\n",
    "\n",
    "        button_dict[str(current_class)] = ((lower_lim_y,upper_lim_y), (lower_lim_x,upper_lim_x), current_class)\n",
    "\n",
    "        cv2.rectangle(button_pad, (lower_lim_x, lower_lim_y), (upper_lim_x, upper_lim_y), grid_color_rgb, -1)\n",
    "        cv2.putText(button_pad, str(current_class), (lower_lim_x+int(button_w*0.2), upper_lim_y-int(button_h*0.35)), cv2.FONT_HERSHEY_SIMPLEX, 1, (0,0,0), 2)\n",
    "        #cv2.imshow(\"pad\", button_pad)\n",
    "        #cv2.waitKey(0)\n",
    "\n",
    "        num_grid +=1\n",
    "\n",
    "        if upper_lim_y >= image_shape:\n",
    "            column +=1\n",
    "            num_grid = 0\n",
    "\n",
    "        if column > num_columns:\n",
    "            raise ValueError(\"Invalid column number.\")\n",
    "\n",
    "    #print(button_dict)\n",
    "\n",
    "    print(\"BUTTON TABLE GENERATED:\")\n",
    "    print(\"**** PLEASE RE-RUN THIS CELL, IF THE COLORS ARE NOT HELPFUL ****\\n\")\n",
    "    plt.imshow(cv2.cvtColor(button_pad, cv2.COLOR_BGR2RGB))\n",
    "\n",
    "    return button_dict, button_pad"
   ]
  },
  {
   "cell_type": "code",
   "execution_count": 26,
   "metadata": {},
   "outputs": [
    {
     "name": "stdout",
     "output_type": "stream",
     "text": [
      "NUM CLASSES: 4\n",
      "NUM COLUMNS: 1\n",
      "PAD DIMS: (800, 400, 3) \n",
      "\n",
      "BUTTON TABLE GENERATED:\n",
      "**** PLEASE RE-RUN THIS CELL, IF THE COLORS ARE NOT HELPFUL ****\n",
      "\n"
     ]
    },
    {
     "data": {
      "image/png": "[encoded data removed]",
      "text/plain": [
       "<Figure size 432x288 with 1 Axes>"
      ]
     },
     "metadata": {
      "needs_background": "light"
     },
     "output_type": "display_data"
    }
   ],
   "source": [
    "button_w = 400\n",
    "button_h = 100\n",
    "image_shape = 800\n",
    "image_name = \"\"\n",
    "path_image = \"\"\n",
    "\n",
    "classes_button_dict, button_pad = button_mapping_dict(classes_list, button_h, button_w, image_shape)"
   ]
  },
  {
   "cell_type": "markdown",
   "metadata": {},
   "source": [
    "## Callback Definition"
   ]
  },
  {
   "cell_type": "code",
   "execution_count": 27,
   "metadata": {},
   "outputs": [],
   "source": [
    "def mouse_callback(event, click_x, click_y, flags, param):\n",
    "\n",
    "    if event == cv2.EVENT_FLAG_LBUTTON:\n",
    "\n",
    "        #print(\"CALLBACK CHECK\")\n",
    "\n",
    "        global classes_button_dict, slide\n",
    "        #print(classes_button_dict)\n",
    "        #print(classes_button_dict.keys())\n",
    "\n",
    "        click_x = click_x - image_shape\n",
    "\n",
    "        for key in classes_button_dict.keys():\n",
    "            ((lower_y,upper_y), (lower_x,upper_x), current_class) = classes_button_dict[key]\n",
    "\n",
    "            if lower_y < click_y and click_y < upper_y:\n",
    "                if lower_x < click_x and click_x < upper_x:\n",
    "\n",
    "                    path_destination = path_classes_root + current_class + \"/\" + image_name.split(\"/\")[-1]\n",
    "                    os.rename(path_image, path_destination)\n",
    "                    print(f\"MOVED TO: {current_class}\")\n",
    "                    #print(\"destination\", path_destination)\n",
    "\n",
    "                    slide = True       \n",
    "               "
   ]
  },
  {
   "cell_type": "markdown",
   "metadata": {},
   "source": [
    "## Main Loop"
   ]
  },
  {
   "cell_type": "code",
   "execution_count": 28,
   "metadata": {},
   "outputs": [
    {
     "name": "stdout",
     "output_type": "stream",
     "text": [
      "CURRENT IMAGE PATH: /home/deniz/Desktop/CODE-ENV/data-automation/frames-to-classes/frames/example_set1/blue1.jpg\n",
      "THE PROCESS HAS STOPPED (at 'blue1.jpg').\n"
     ]
    }
   ],
   "source": [
    "switch_quit = False\n",
    "\n",
    "for image_name in image_names_list:\n",
    "\n",
    "    # to slide next image, make \"slide\" True by callback func\n",
    "    slide = False\n",
    "    # define image path\n",
    "    path_image = path_selected_folder + \"/\" + image_name\n",
    "    print(\"CURRENT IMAGE PATH:\", path_image)\n",
    "    # read image\n",
    "    image_current = cv2.imread(path_image)\n",
    "    # resize image for helpful size\n",
    "    image_current = cv2.resize(image_current, (image_shape,image_shape))\n",
    "    # get image shape\n",
    "    h,w,c = image_current.shape\n",
    "    # stack image and button pad horizontally \n",
    "    image_current = np.hstack((image_current, button_pad))\n",
    "    # create window for current image\n",
    "    cv2.namedWindow(f\"{image_name}\", cv2.WINDOW_NORMAL)\n",
    "    # set window property to open fullscreen\n",
    "    cv2.setWindowProperty(f\"{image_name}\", cv2.WND_PROP_FULLSCREEN, cv2.WINDOW_FULLSCREEN)\n",
    "    # define mouse callback\n",
    "    cv2.setMouseCallback(f\"{image_name}\",mouse_callback)\n",
    "    # define information text\n",
    "    info_script = f'\"Q\" to quit - remaining: {num_frames} - {image_name[:-4]}'\n",
    "    # print information text\n",
    "    cv2.putText(image_current, info_script, (15,h-15), cv2.FONT_HERSHEY_SIMPLEX, 0.8, (255,150,0), 2)\n",
    "    # decrease remaining counter manually\n",
    "    num_frames -= 1\n",
    "\n",
    "    while True:\n",
    "        \n",
    "        # show current image\n",
    "        cv2.imshow(f\"{image_name}\", image_current)\n",
    "\n",
    "        # wait for a key\n",
    "        if cv2.waitKey(20) & 0xFF == ord(\"q\"):\n",
    "            cv2.destroyWindow(f\"{image_name}\")\n",
    "            switch_quit = True\n",
    "            print(f\"THE PROCESS HAS STOPPED (at '{image_name}').\")\n",
    "            break\n",
    "\n",
    "        # break the loop to slide another image \n",
    "        if slide == True:\n",
    "            cv2.destroyWindow(f\"{image_name}\")\n",
    "            break\n",
    "\n",
    "    if switch_quit:\n",
    "        break"
   ]
  },
  {
   "cell_type": "code",
   "execution_count": null,
   "metadata": {},
   "outputs": [],
   "source": []
  }
 ],
 "metadata": {
  "interpreter": {
   "hash": "eeb7e7f481380f66e524d8ee2e79795c015a1143179697565aac94a9579f857a"
  },
  "kernelspec": {
   "display_name": "Python 3.9.12 ('dl_env')",
   "language": "python",
   "name": "python3"
  },
  "language_info": {
   "codemirror_mode": {
    "name": "ipython",
    "version": 3
   },
   "file_extension": ".py",
   "mimetype": "text/x-python",
   "name": "python",
   "nbconvert_exporter": "python",
   "pygments_lexer": "ipython3",
   "version": "3.8.10"
  },
  "orig_nbformat": 4
 },
 "nbformat": 4,
 "nbformat_minor": 2
}
