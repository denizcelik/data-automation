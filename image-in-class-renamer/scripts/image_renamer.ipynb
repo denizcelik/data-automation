{
 "cells": [
  {
   "cell_type": "code",
   "execution_count": 5,
   "metadata": {},
   "outputs": [],
   "source": [
    "import os"
   ]
  },
  {
   "cell_type": "code",
   "execution_count": 6,
   "metadata": {},
   "outputs": [],
   "source": [
    "path_root = \"/home/deniz/Desktop/CODE-ENV/data-automation/image-in-class-renamer/\""
   ]
  },
  {
   "cell_type": "code",
   "execution_count": 7,
   "metadata": {},
   "outputs": [
    {
     "data": {
      "text/plain": [
       "'/home/deniz/Desktop/CODE-ENV/data-automation/image-in-class-renamer/classes/'"
      ]
     },
     "execution_count": 7,
     "metadata": {},
     "output_type": "execute_result"
    }
   ],
   "source": [
    "path_classes_root = path_root + \"classes/\"\n",
    "path_classes_root"
   ]
  },
  {
   "cell_type": "code",
   "execution_count": 8,
   "metadata": {},
   "outputs": [
    {
     "data": {
      "text/plain": [
       "['blue', 'green', 'red']"
      ]
     },
     "execution_count": 8,
     "metadata": {},
     "output_type": "execute_result"
    }
   ],
   "source": [
    "list_class_names = os.listdir(path_classes_root)\n",
    "list_class_names.sort()\n",
    "list_class_names"
   ]
  },
  {
   "cell_type": "code",
   "execution_count": 9,
   "metadata": {},
   "outputs": [
    {
     "name": "stdout",
     "output_type": "stream",
     "text": [
      "Class: blue\n",
      "['image-1432.png', 'skytone-1512.png', 'deep_blue.png']\n",
      "['blue_2.png', 'blue_1.png', 'blue_0.png']\n",
      "Class: green\n",
      "['screencrop-green.png', 'image-1124123.png', 'im-g.png']\n",
      "['green_0.png', 'green_1.png', 'green_2.png']\n",
      "Class: red\n",
      "['hot-tone.png', 'image-15612123.png', 'candy-img.png']\n",
      "['red_0.png', 'red_2.png', 'red_1.png']\n"
     ]
    }
   ],
   "source": [
    "for class_name in list_class_names:\n",
    "\n",
    "    path_current_class = path_classes_root + class_name + \"/\"\n",
    "    #print(path_current_class)\n",
    "\n",
    "    list_class_images = os.listdir(path_current_class)\n",
    "\n",
    "    print(\"Class:\", class_name)\n",
    "    print(list_class_images)\n",
    "\n",
    "    temp_list = []\n",
    "\n",
    "    for i,image_name in enumerate(list_class_images):\n",
    "\n",
    "        path_current = path_current_class + image_name\n",
    "        path_renamed = path_current_class + f\"{class_name}_{i}.png\"\n",
    "        os.rename(path_current, path_renamed)\n",
    "\n",
    "        #temp_list.append(f\"{class_name}_{i}.png\")\n",
    "\n",
    "    list_class_images = os.listdir(path_current_class)\n",
    "    print(list_class_images)"
   ]
  },
  {
   "cell_type": "code",
   "execution_count": null,
   "metadata": {},
   "outputs": [],
   "source": []
  }
 ],
 "metadata": {
  "interpreter": {
   "hash": "36e25f14691c967c530392a42cc7463d655f6e07a6622c8057a7c0fbcda2790a"
  },
  "kernelspec": {
   "display_name": "Python 3.8.10 ('dl_env')",
   "language": "python",
   "name": "python3"
  },
  "language_info": {
   "codemirror_mode": {
    "name": "ipython",
    "version": 3
   },
   "file_extension": ".py",
   "mimetype": "text/x-python",
   "name": "python",
   "nbconvert_exporter": "python",
   "pygments_lexer": "ipython3",
   "version": "3.8.10"
  },
  "orig_nbformat": 4
 },
 "nbformat": 4,
 "nbformat_minor": 2
}
