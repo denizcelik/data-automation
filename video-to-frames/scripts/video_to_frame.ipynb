{
 "cells": [
  {
   "cell_type": "code",
   "execution_count": 1,
   "metadata": {},
   "outputs": [],
   "source": [
    "import cv2, os"
   ]
  },
  {
   "cell_type": "code",
   "execution_count": 2,
   "metadata": {},
   "outputs": [],
   "source": [
    "root_path = \"/home/deniz/Desktop/CODE-ENV/video-to-frames/\""
   ]
  },
  {
   "cell_type": "code",
   "execution_count": 3,
   "metadata": {},
   "outputs": [
    {
     "name": "stdout",
     "output_type": "stream",
     "text": [
      "/home/deniz/Desktop/CODE-ENV/video-to-frames/frames/\n"
     ]
    }
   ],
   "source": [
    "frames_root_path = root_path + \"frames/\"\n",
    "print(frames_root_path)"
   ]
  },
  {
   "cell_type": "code",
   "execution_count": 4,
   "metadata": {},
   "outputs": [
    {
     "name": "stdout",
     "output_type": "stream",
     "text": [
      "/home/deniz/Desktop/CODE-ENV/video-to-frames/videos/\n"
     ]
    }
   ],
   "source": [
    "videos_root_path = video_path = root_path + \"videos/\"\n",
    "print(videos_root_path)"
   ]
  },
  {
   "cell_type": "code",
   "execution_count": 5,
   "metadata": {},
   "outputs": [
    {
     "name": "stdout",
     "output_type": "stream",
     "text": [
      "['test_video.mp4', 'test_video2.mp4']\n"
     ]
    }
   ],
   "source": [
    "video_names_list = os.listdir(videos_root_path)\n",
    "print(video_names_list)"
   ]
  },
  {
   "cell_type": "code",
   "execution_count": 6,
   "metadata": {},
   "outputs": [
    {
     "name": "stdout",
     "output_type": "stream",
     "text": [
      "--------------------------------------------------------------------------------\n",
      "VIDEO PATH: /home/deniz/Desktop/CODE-ENV/video-to-frames/videos/test_video.mp4\n"
     ]
    },
    {
     "ename": "KeyboardInterrupt",
     "evalue": "",
     "output_type": "error",
     "traceback": [
      "\u001b[0;31m---------------------------------------------------------------------------\u001b[0m",
      "\u001b[0;31mKeyboardInterrupt\u001b[0m                         Traceback (most recent call last)",
      "\u001b[1;32m/home/deniz/Desktop/CODE-ENV/video-to-frames/scripts/video_to_frame.ipynb Cell 6'\u001b[0m in \u001b[0;36m<cell line: 7>\u001b[0;34m()\u001b[0m\n\u001b[1;32m     <a href='vscode-notebook-cell:/home/deniz/Desktop/CODE-ENV/video-to-frames/scripts/video_to_frame.ipynb#ch0000005?line=28'>29</a>\u001b[0m \u001b[39m# main loop\u001b[39;00m\n\u001b[1;32m     <a href='vscode-notebook-cell:/home/deniz/Desktop/CODE-ENV/video-to-frames/scripts/video_to_frame.ipynb#ch0000005?line=29'>30</a>\u001b[0m \u001b[39mwhile\u001b[39;00m \u001b[39mTrue\u001b[39;00m:\n\u001b[1;32m     <a href='vscode-notebook-cell:/home/deniz/Desktop/CODE-ENV/video-to-frames/scripts/video_to_frame.ipynb#ch0000005?line=30'>31</a>\u001b[0m \n\u001b[1;32m     <a href='vscode-notebook-cell:/home/deniz/Desktop/CODE-ENV/video-to-frames/scripts/video_to_frame.ipynb#ch0000005?line=31'>32</a>\u001b[0m     \u001b[39m# extract image from read object\u001b[39;00m\n\u001b[0;32m---> <a href='vscode-notebook-cell:/home/deniz/Desktop/CODE-ENV/video-to-frames/scripts/video_to_frame.ipynb#ch0000005?line=32'>33</a>\u001b[0m     _, frame \u001b[39m=\u001b[39m cap\u001b[39m.\u001b[39mread()\n\u001b[1;32m     <a href='vscode-notebook-cell:/home/deniz/Desktop/CODE-ENV/video-to-frames/scripts/video_to_frame.ipynb#ch0000005?line=34'>35</a>\u001b[0m     \u001b[39m# if frame exists\u001b[39;00m\n\u001b[1;32m     <a href='vscode-notebook-cell:/home/deniz/Desktop/CODE-ENV/video-to-frames/scripts/video_to_frame.ipynb#ch0000005?line=35'>36</a>\u001b[0m     \u001b[39mif\u001b[39;00m _:\n\u001b[1;32m     <a href='vscode-notebook-cell:/home/deniz/Desktop/CODE-ENV/video-to-frames/scripts/video_to_frame.ipynb#ch0000005?line=36'>37</a>\u001b[0m \n\u001b[1;32m     <a href='vscode-notebook-cell:/home/deniz/Desktop/CODE-ENV/video-to-frames/scripts/video_to_frame.ipynb#ch0000005?line=37'>38</a>\u001b[0m         \u001b[39m# current frame shape\u001b[39;00m\n",
      "\u001b[0;31mKeyboardInterrupt\u001b[0m: "
     ]
    }
   ],
   "source": [
    "# constant variables\n",
    "ROI_SIZE = 700\n",
    "RESIZE_DIM = 400\n",
    "STEP = 4\n",
    "\n",
    "\n",
    "for video_name in video_names_list:\n",
    "    \n",
    "    # counters\n",
    "    frame_count = 0\n",
    "    saved_count = 0\n",
    "    jump = 0\n",
    "\n",
    "    print(\"-\"*80)\n",
    "\n",
    "    video_path = root_path + \"videos/\" + video_name\n",
    "    print(\"VIDEO PATH:\", video_path)\n",
    "\n",
    "    # video capture object\n",
    "    cap = cv2.VideoCapture(video_path)\n",
    "\n",
    "    # video name withour file extention \".mp4\"\n",
    "    video_name_without_ext = video_name.split(\".\")[0]\n",
    "\n",
    "    # make a directory for image saving\n",
    "    frames_path = frames_root_path + video_name_without_ext.upper()\n",
    "    os.makedirs(frames_path, exist_ok=True)\n",
    "\n",
    "    # main loop\n",
    "    while True:\n",
    "\n",
    "        # extract image from read object\n",
    "        _, frame = cap.read()\n",
    "\n",
    "        # if frame exists\n",
    "        if _:\n",
    "\n",
    "            # current frame shape\n",
    "            shape = frame.shape\n",
    "            heigth, width, chan = shape\n",
    "\n",
    "            # ROI dimensions\n",
    "            h_lower = int((heigth-ROI_SIZE)/2)\n",
    "            h_upper = int((heigth-ROI_SIZE)/2 + ROI_SIZE)\n",
    "            w_lower = int((width-ROI_SIZE)/2)\n",
    "            w_upper = int((width-ROI_SIZE)/2 + ROI_SIZE)\n",
    "\n",
    "            # Cropping and saving ROI\n",
    "            img_roi = frame[h_lower:h_upper, w_lower:w_upper]\n",
    "            image_path = frames_path + f\"/{video_name_without_ext}_\" + str(frame_count) + \".jpg\"\n",
    "            \n",
    "            # save selected (by jump parameter) frame \n",
    "            if frame_count == jump:\n",
    "                \n",
    "                # save selected image\n",
    "                #print(\"SAVED:\",image_path)\n",
    "\n",
    "                img_roi = cv2.resize(img_roi, (RESIZE_DIM, RESIZE_DIM))\n",
    "                saved_status = cv2.imwrite(image_path, img_roi)\n",
    "\n",
    "                # increase saved image counter\n",
    "                if saved_status:\n",
    "                    saved_count += 1\n",
    "\n",
    "                # increase jump for next iter\n",
    "                jump += STEP\n",
    "\n",
    "            # print and increase frame counter  \n",
    "            #cv2.putText(frame, str(frame_count), (50,50), cv2.FONT_HERSHEY_SIMPLEX, 1.5, (255,100,0), 2)\n",
    "            frame_count += 1\n",
    "\n",
    "            # render images\n",
    "            #cv2.imshow(\"frame\", frame)\n",
    "            #cv2.imshow(\"ROI\", img_roi)\n",
    "\n",
    "            if cv2.waitKey(20) & 0xFF == ord(\"q\"):\n",
    "                break\n",
    "        else:\n",
    "            break\n",
    "\n",
    "    print(\"NUM.OF.FRAMES:\", frame_count)\n",
    "    print(\"SAVED FRAMES:\", saved_count)\n",
    "\n",
    "    current_dir = video_path\n",
    "    destination = root_path + f\"done/{video_name}\"\n",
    "\n",
    "    os.rename(current_dir, destination)\n",
    "    print(f\"THE PROCESSED FILE '{video_name}' MOVED TO 'done' FOLDER\")\n",
    "\n",
    "    cap.release()\n",
    "    cv2.destroyAllWindows()"
   ]
  },
  {
   "cell_type": "code",
   "execution_count": null,
   "metadata": {},
   "outputs": [],
   "source": []
  }
 ],
 "metadata": {
  "interpreter": {
   "hash": "36e25f14691c967c530392a42cc7463d655f6e07a6622c8057a7c0fbcda2790a"
  },
  "kernelspec": {
   "display_name": "Python 3.8.10 ('dl_env')",
   "language": "python",
   "name": "python3"
  },
  "language_info": {
   "codemirror_mode": {
    "name": "ipython",
    "version": 3
   },
   "file_extension": ".py",
   "mimetype": "text/x-python",
   "name": "python",
   "nbconvert_exporter": "python",
   "pygments_lexer": "ipython3",
   "version": "3.8.10"
  },
  "orig_nbformat": 4
 },
 "nbformat": 4,
 "nbformat_minor": 2
}
