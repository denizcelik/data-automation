{
 "cells": [
  {
   "cell_type": "code",
   "execution_count": 2,
   "metadata": {},
   "outputs": [],
   "source": [
    "import cv2, os"
   ]
  },
  {
   "cell_type": "code",
   "execution_count": 4,
   "metadata": {},
   "outputs": [],
   "source": [
    "path_root = \"/home/deniz/Desktop/CODE-ENV/data-automation/data-crop/\""
   ]
  },
  {
   "cell_type": "code",
   "execution_count": 5,
   "metadata": {},
   "outputs": [
    {
     "data": {
      "text/plain": [
       "'/home/deniz/Desktop/CODE-ENV/data-automation/data-crop/raw/'"
      ]
     },
     "execution_count": 5,
     "metadata": {},
     "output_type": "execute_result"
    }
   ],
   "source": [
    "path_raw_root = path_root + \"raw/\"\n",
    "path_raw_root"
   ]
  },
  {
   "cell_type": "code",
   "execution_count": 6,
   "metadata": {},
   "outputs": [
    {
     "data": {
      "text/plain": [
       "'/home/deniz/Desktop/CODE-ENV/data-automation/data-crop/cropped/'"
      ]
     },
     "execution_count": 6,
     "metadata": {},
     "output_type": "execute_result"
    }
   ],
   "source": [
    "path_cropped_root = path_root + \"cropped/\"\n",
    "path_cropped_root"
   ]
  },
  {
   "cell_type": "code",
   "execution_count": 8,
   "metadata": {},
   "outputs": [
    {
     "name": "stdout",
     "output_type": "stream",
     "text": [
      "num of raw photos: 3\n"
     ]
    },
    {
     "data": {
      "text/plain": [
       "['photo_map-1352.png', 'aXyhgls.png', 'image-1(9).png']"
      ]
     },
     "execution_count": 8,
     "metadata": {},
     "output_type": "execute_result"
    }
   ],
   "source": [
    "list_raw_image = os.listdir(path_raw_root)\n",
    "num_raw_photos = len(list_raw_image)\n",
    "print(\"num of raw photos:\", num_raw_photos)\n",
    "list_raw_image"
   ]
  },
  {
   "cell_type": "markdown",
   "metadata": {},
   "source": [
    "## Rename the raw data"
   ]
  },
  {
   "cell_type": "code",
   "execution_count": 10,
   "metadata": {},
   "outputs": [],
   "source": [
    "for i, image_name in enumerate(list_raw_image):\n",
    "    \n",
    "    path_current = path_raw_root + image_name\n",
    "    path_destination = path_raw_root + f\"image_{i}.png\"\n",
    "    os.rename(path_current, path_destination)"
   ]
  },
  {
   "cell_type": "code",
   "execution_count": 11,
   "metadata": {},
   "outputs": [
    {
     "name": "stdout",
     "output_type": "stream",
     "text": [
      "num of raw photos: 3\n"
     ]
    },
    {
     "data": {
      "text/plain": [
       "['image_0.png', 'image_2.png', 'image_1.png']"
      ]
     },
     "execution_count": 11,
     "metadata": {},
     "output_type": "execute_result"
    }
   ],
   "source": [
    "list_raw_image = os.listdir(path_raw_root)\n",
    "num_raw_photos = len(list_raw_image)\n",
    "print(\"num of raw photos:\", num_raw_photos)\n",
    "list_raw_image"
   ]
  },
  {
   "cell_type": "markdown",
   "metadata": {},
   "source": [
    "## Crop and save the raw data"
   ]
  },
  {
   "cell_type": "code",
   "execution_count": 12,
   "metadata": {},
   "outputs": [],
   "source": [
    "crop_size = 800\n",
    "new_size = 400"
   ]
  },
  {
   "cell_type": "code",
   "execution_count": 13,
   "metadata": {},
   "outputs": [],
   "source": [
    "#id_img = np.random.randint(0, num_raw_photos)\n",
    "\n",
    "for i, image_name in enumerate(list_raw_image):\n",
    "\n",
    "    # read current image\n",
    "    img_orig = cv2.imread(path_raw_root + image_name)\n",
    "    # get shape\n",
    "    h,w,c = img_orig.shape\n",
    "    # define cropping limits\n",
    "    h_offset = int((h-crop_size)/2) + 50\n",
    "    v_offset = int((w-crop_size)/2)\n",
    "    # crop roi of current image\n",
    "    img_cropped = img_orig[h_offset:h_offset+crop_size, v_offset:v_offset+crop_size]\n",
    "    # resize image\n",
    "    img_cropped =cv2.resize(img_cropped, (new_size,new_size))\n",
    "    # define current image destination\n",
    "    path_cropped_destination = path_cropped_root + image_name\n",
    "    # save cropped image\n",
    "    cv2.imwrite(path_cropped_destination, img_cropped)\n",
    "    \n",
    "    # show images\n",
    "    #cv2.imshow(\"image\", cv2.resize(img_orig, (int(img_orig.shape[1]*0.6), int(img_orig.shape[0]*0.6))))\n",
    "    #cv2.imshow(\"cropped\", img_cropped)\n",
    "\n",
    "    # if cv2.waitKey(20) & 0xFF == ord(\"q\"):\n",
    "    #     break\n",
    "\n",
    "cv2.destroyAllWindows()"
   ]
  }
 ],
 "metadata": {
  "interpreter": {
   "hash": "36e25f14691c967c530392a42cc7463d655f6e07a6622c8057a7c0fbcda2790a"
  },
  "kernelspec": {
   "display_name": "Python 3.8.10 ('dl_env')",
   "language": "python",
   "name": "python3"
  },
  "language_info": {
   "codemirror_mode": {
    "name": "ipython",
    "version": 3
   },
   "file_extension": ".py",
   "mimetype": "text/x-python",
   "name": "python",
   "nbconvert_exporter": "python",
   "pygments_lexer": "ipython3",
   "version": "3.8.10"
  },
  "orig_nbformat": 4
 },
 "nbformat": 4,
 "nbformat_minor": 2
}
